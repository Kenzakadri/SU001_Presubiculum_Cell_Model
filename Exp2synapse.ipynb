{
 "cells": [
  {
   "cell_type": "code",
   "execution_count": 1,
   "metadata": {
    "pycharm": {
     "is_executing": false
    }
   },
   "outputs": [
    {
     "name": "stdout",
     "output_type": "stream",
     "text": [
      "7.7.2\n"
     ]
    }
   ],
   "source": [
    "import neuron\n",
    "from neuron import h,rxd,gui2\n",
    "print(neuron.__version__)\n",
    "\n",
    "\n",
    "from neuron import h,rxd, gui\n",
    "from neuron.units import ms, mV\n",
    "import textwrap"
   ]
  },
  {
   "cell_type": "markdown",
   "metadata": {},
   "source": [
    "#Step 2: Create a cell "
   ]
  },
  {
   "cell_type": "markdown",
   "metadata": {},
   "source": [
    "##Aside 1: NEURON's h.topology function\n",
    "NEURON's h.topology() function displays the topological structure of the entire model, indicating which sections are connected to which sections, where they are connected, and how many segments each section is divided into.\n"
   ]
  },
  {
   "cell_type": "markdown",
   "metadata": {
    "pycharm": {
     "name": "#%% md\n"
    }
   },
   "source": [
    "load library"
   ]
  },
  {
   "cell_type": "code",
   "execution_count": 2,
   "metadata": {
    "pycharm": {
     "is_executing": false,
     "name": "#%% \n"
    }
   },
   "outputs": [],
   "source": [
    "import numpy as np\n",
    "import matplotlib.pyplot as plt\n",
    "image = np.load('data_downsampled_from_19513019.npy')"
   ]
  },
  {
   "cell_type": "code",
   "execution_count": 3,
   "metadata": {
    "pycharm": {
     "is_executing": false,
     "name": "#%%\n"
    }
   },
   "outputs": [
    {
     "name": "stdout",
     "output_type": "stream",
     "text": [
      "(20001, 2)\n"
     ]
    },
    {
     "data": {
      "image/png": "[encoded data removed]",
      "text/plain": [
       "<Figure size 432x288 with 1 Axes>"
      ]
     },
     "metadata": {
      "needs_background": "light"
     },
     "output_type": "display_data"
    }
   ],
   "source": [
    "print(image.shape)\n",
    "x = image[:,0]*1000\n",
    "y = image[:,1]\n",
    "y = y-10\n",
    "plt.plot(x,y)\n",
    "plt.show()"
   ]
  },
  {
   "cell_type": "markdown",
   "metadata": {},
   "source": [
    "# Our model"
   ]
  },
  {
   "cell_type": "code",
   "execution_count": 4,
   "metadata": {},
   "outputs": [
    {
     "data": {
      "text/plain": [
       "1.0"
      ]
     },
     "execution_count": 4,
     "metadata": {},
     "output_type": "execute_result"
    }
   ],
   "source": [
    "h.load_file('stdrun.hoc')\n"
   ]
  },
  {
   "cell_type": "code",
   "execution_count": 5,
   "metadata": {
    "pycharm": {
     "is_executing": false,
     "name": "#%%\n"
    }
   },
   "outputs": [],
   "source": [
    "soma = h.Section(name='soma')\n",
    "soma.L = 20\n",
    "soma.diam = 20\n",
    "soma.insert('hh')\n",
    "dendrite = h.Section(name='dendrite')\n",
    "dendrite.L = 500\n",
    "dendrite.diam = 0.5\n",
    "dendrite.nseg = 10\n",
    "dendrite.insert('pas') #hh\n",
    "dendrite_1 = h.Section(name='dendrite_1')\n",
    "dendrite_1.L = 100\n",
    "dendrite_1.diam = 0.5\n",
    "dendrite_1.nseg = 10\n",
    "dendrite_1.insert('pas')\n",
    "dendrite_2 = h.Section(name='dendrite_2')\n",
    "dendrite_2.L = 100\n",
    "dendrite_2.diam = 0.5\n",
    "dendrite_2.nseg = 10\n",
    "dendrite_2.insert('pas');"
   ]
  },
  {
   "cell_type": "markdown",
   "metadata": {
    "pycharm": {
     "name": "#%% md\n"
    }
   },
   "source": [
    "Connection"
   ]
  },
  {
   "cell_type": "code",
   "execution_count": 6,
   "metadata": {
    "pycharm": {
     "is_executing": false,
     "name": "#%% \n"
    }
   },
   "outputs": [],
   "source": [
    "dendrite.connect(soma,1,0)\n",
    "dendrite_1.connect(dendrite,1,1)\n",
    "dendrite_2.connect(dendrite,1,1);"
   ]
  },
  {
   "cell_type": "code",
   "execution_count": 7,
   "metadata": {
    "pycharm": {
     "is_executing": false,
     "name": "#%%\n"
    }
   },
   "outputs": [
    {
     "name": "stdout",
     "output_type": "stream",
     "text": [
      "\n",
      "|-|       soma(0-1)\n",
      "   `---------|       dendrite(0-1)\n",
      "              `---------|       dendrite_1(1-0)\n",
      "              `---------|       dendrite_2(1-0)\n",
      "\n"
     ]
    },
    {
     "data": {
      "text/plain": [
       "1.0"
      ]
     },
     "execution_count": 7,
     "metadata": {},
     "output_type": "execute_result"
    }
   ],
   "source": [
    "h.topology()"
   ]
  },
  {
   "cell_type": "markdown",
   "metadata": {
    "pycharm": {
     "name": "#%% md\n"
    }
   },
   "source": [
    "## Insert an alpha synaspe"
   ]
  },
  {
   "cell_type": "markdown",
   "metadata": {
    "pycharm": {
     "is_executing": false,
     "name": "#%% md\n"
    }
   },
   "source": [
    "Alpha synaspe "
   ]
  },
  {
   "cell_type": "code",
   "execution_count": 8,
   "metadata": {
    "pycharm": {
     "is_executing": false,
     "name": "#%% md\n"
    }
   },
   "outputs": [
    {
     "name": "stdout",
     "output_type": "stream",
     "text": [
      "['__class__', '__delattr__', '__dir__', '__doc__', '__eq__', '__format__', '__ge__', '__getattribute__', '__gt__', '__hash__', '__init__', '__init_subclass__', '__le__', '__lt__', '__module__', '__ne__', '__new__', '__next__', '__reduce__', '__reduce_ex__', '__repr__', '__setattr__', '__sizeof__', '__str__', '__subclasshook__', 'el', 'gk', 'gkbar', 'gl', 'gna', 'gnabar', 'h', 'il', 'is_ion', 'm', 'n', 'name', 'segment']\n"
     ]
    }
   ],
   "source": [
    "h.load_file('stdrun.hoc')\n",
    "print(dir(soma(0.5).hh))\n",
    "s = h.NetStim()\n",
    "soma(0.5).hh.el=-80 #pour la dendrite = voir en divisant par 10\n",
    "\n"
   ]
  },
  {
   "cell_type": "code",
   "execution_count": 9,
   "metadata": {},
   "outputs": [
    {
     "data": {
      "image/png": "[encoded data removed]",
      "text/plain": [
       "<Figure size 576x288 with 1 Axes>"
      ]
     },
     "metadata": {
      "needs_background": "light"
     },
     "output_type": "display_data"
    },
    {
     "name": "stdout",
     "output_type": "stream",
     "text": [
      "[-75.4296875  -75.35339355 -75.36865234 ... -75.50598145 -75.54412842\n",
      " -75.62805176]\n",
      "[0.00000e+00 2.50000e-02 5.00000e-02 ... 4.99950e+02 4.99975e+02\n",
      " 5.00000e+02]\n"
     ]
    }
   ],
   "source": [
    "asyn = h.Exp2Syn(dendrite(0.5))\n",
    "\n",
    "asyn.tau1 = 1.68799\n",
    "asyn.tau2 = 20.8413 \n",
    "asyn.e = 0\n",
    "asyn.i = 0\n",
    "s.interval =50\n",
    "s.number= 5\n",
    "s.noise=0\n",
    "s.start=0\n",
    "\n",
    "\n",
    "stim = h.NetCon(s,asyn)\n",
    "stim.delay=100\n",
    "\n",
    "stim.weight[0] = 0.00434124  # 0.0035\n",
    "\n",
    "#x = x*1000\n",
    "\n",
    "h.finitialize(-70 * mV)\n",
    "\n",
    "v_vec = h.Vector()             # Membrane potential vector\n",
    "t_vec = h.Vector()        \n",
    "k_vec = h.Vector() \n",
    "na_vec = h.Vector()\n",
    "v_vec.record(soma(0.5)._ref_v)\n",
    "#k_vec.record(soma(0.5)._ref_h_hh)\n",
    "#na_vec.record(soma(0.5._ref_n_hh))\n",
    "\n",
    "t_vec.record(h._ref_t)\n",
    "\n",
    "h.tstop = 500\n",
    "h.run()\n",
    "plt.figure(figsize=(8,4)) # Default figsize is (8,6)\n",
    "plt.plot(t_vec, v_vec)\n",
    "\n",
    "plt.xlabel('Time (ms)')\n",
    "plt.xlim(0,500)\n",
    "plt.ylabel('Membrane Potential mV')\n",
    "plt.plot(x,y,color='g')\n",
    "plt.savefig('fit_praxis')\n",
    "plt.show()\n",
    "print(y)\n",
    "print(x)"
   ]
  },
  {
   "cell_type": "code",
   "execution_count": null,
   "metadata": {},
   "outputs": [],
   "source": []
  },
  {
   "cell_type": "code",
   "execution_count": 10,
   "metadata": {},
   "outputs": [
    {
     "name": "stdout",
     "output_type": "stream",
     "text": [
      "[0.025    0.025025 0.02505  ... 0.49995  0.499975 0.5     ]\n",
      "[-65.4296875  -65.35339355 -65.44494629 ... -65.50598145 -65.54412842\n",
      " -65.62805176]\n"
     ]
    }
   ],
   "source": [
    "x1 = image[1000:,0]\n",
    "y1 = image[1000:,1]\n",
    "print(x1)\n",
    "print(y1)"
   ]
  },
  {
   "cell_type": "code",
   "execution_count": 11,
   "metadata": {},
   "outputs": [
    {
     "data": {
      "text/plain": [
       "99999.99999999999"
      ]
     },
     "execution_count": 11,
     "metadata": {},
     "output_type": "execute_result"
    }
   ],
   "source": [
    "1/0.00001"
   ]
  },
  {
   "cell_type": "code",
   "execution_count": 12,
   "metadata": {},
   "outputs": [
    {
     "name": "stdout",
     "output_type": "stream",
     "text": [
      "0.025\n"
     ]
    }
   ],
   "source": [
    "print(t_vec[1])"
   ]
  },
  {
   "cell_type": "code",
   "execution_count": 13,
   "metadata": {},
   "outputs": [
    {
     "name": "stdout",
     "output_type": "stream",
     "text": [
      "Vector[7]\n"
     ]
    }
   ],
   "source": [
    "x1 = h.Vector(image[:,1])\n",
    "print(x1)\n"
   ]
  },
  {
   "cell_type": "code",
   "execution_count": 14,
   "metadata": {},
   "outputs": [
    {
     "name": "stdout",
     "output_type": "stream",
     "text": [
      "-65.3381347656238\n",
      "-74.06664557771019\n"
     ]
    }
   ],
   "source": [
    "tau1 = range(1,20)\n",
    "tau2 = range(1,20)\n",
    "x0 = (image[:,0])\n",
    "x1 = (image[:,1])\n",
    "#for x in x1: print(x)\n",
    "\n",
    "print((x1[100]))\n",
    "#for y in v_vec : print(y)\n",
    "print((v_vec[100]))\n"
   ]
  },
  {
   "cell_type": "code",
   "execution_count": 15,
   "metadata": {},
   "outputs": [],
   "source": [
    "vaa=h.Vector([1,10,0.001])\n"
   ]
  },
  {
   "cell_type": "markdown",
   "metadata": {},
   "source": [
    "# Fit praxis"
   ]
  },
  {
   "cell_type": "code",
   "execution_count": 16,
   "metadata": {},
   "outputs": [
    {
     "name": "stdout",
     "output_type": "stream",
     "text": [
      "done\n"
     ]
    },
    {
     "name": "stderr",
     "output_type": "stream",
     "text": [
      "/opt/anaconda3/lib/python3.7/site-packages/ipykernel_launcher.py:12: RuntimeWarning: overflow encountered in square\n",
      "  if sys.path[0] == '':\n",
      "/opt/anaconda3/lib/python3.7/site-packages/numpy/core/fromnumeric.py:90: RuntimeWarning: overflow encountered in reduce\n",
      "  return ufunc.reduce(obj, axis, dtype, out, **passkwargs)\n"
     ]
    },
    {
     "name": "stdout",
     "output_type": "stream",
     "text": [
      "e=7140.02 x=-1.68799 y=20.8413 z=0.00434124 \n",
      "\n"
     ]
    }
   ],
   "source": [
    "def efun(vaa):\n",
    "    asyn.tau1 = vaa[0]\n",
    "    asyn.tau2 = vaa[1]\n",
    "    stim.weight[0] = vaa[2]\n",
    "    v_vec = h.Vector()             \n",
    "    t_vec = h.Vector()             \n",
    "    v_vec.record(soma(0.5)._ref_v)\n",
    "    t_vec.record(h._ref_t)\n",
    "    #vaa=h.Vector([asyn.tau1,asyn.tau2,stim.weight[0]])\n",
    "    h.tstop = 500\n",
    "    h.run()\n",
    "    eps = np.sum((v_vec-y)**2)\n",
    "    return eps #vaa[0]+vaa[1]+vaa[2]-5 ) ** 2 +5*( vaa[0]-vaa[1]-vaa[2]-15) ** 2 \n",
    "h.attr_praxis(1e-5, 0.5, 0)\n",
    "print('done')\n",
    "e = h.fit_praxis(efun, vaa)\n",
    "print(\"e=%g x=%g y=%g z=%g \\n\"%(e,vaa[0],vaa[1],vaa[2]))\n",
    "    \n"
   ]
  },
  {
   "cell_type": "markdown",
   "metadata": {},
   "source": [
    "# We take the optimal parameter and then we change the synaptic weight of Exp2 synapse"
   ]
  },
  {
   "cell_type": "code",
   "execution_count": 93,
   "metadata": {},
   "outputs": [],
   "source": [
    "weight = np.linspace(0,1,1000)\n"
   ]
  },
  {
   "cell_type": "code",
   "execution_count": 94,
   "metadata": {},
   "outputs": [],
   "source": [
    "vector = []\n",
    "\n",
    "for w in weight :\n",
    "    asyn = h.Exp2Syn(dendrite(0.5))\n",
    "    asyn.tau1 = 1.68799\n",
    "    asyn.tau2 = 20.8413\n",
    "    asyn.e = 0\n",
    "    asyn.i = 0\n",
    "    s.interval =50\n",
    "    s.number= 5\n",
    "    s.noise=0\n",
    "    s.start=0\n",
    "    stim = h.NetCon(s,asyn)\n",
    "    stim.delay=100\n",
    "    h.finitialize(-60 * mV)\n",
    "    stim.weight[0] = w\n",
    "    v_vec = h.Vector()             # Membrane potential vector\n",
    "    t_vec = h.Vector()             # Time stamp vector\n",
    "    vector1 = v_vec.record(soma(0.5)._ref_v)\n",
    "    t_vec.record(h._ref_t)\n",
    "    h.tstop = 500\n",
    "    h.run()\n",
    "    vector.append(vector1[8198])\n",
    "    "
   ]
  },
  {
   "cell_type": "code",
   "execution_count": 95,
   "metadata": {},
   "outputs": [
    {
     "data": {
      "image/png": "[encoded data removed]",
      "text/plain": [
       "<Figure size 432x288 with 1 Axes>"
      ]
     },
     "metadata": {
      "needs_background": "light"
     },
     "output_type": "display_data"
    }
   ],
   "source": [
    "plt.ylabel('Vm')\n",
    "plt.xlabel('Synapse weight')\n",
    "plt.plot(weight,vector,'r',label='max Vm (dendrite_hh)')\n",
    "plt.savefig('weight2')\n",
    "plt.legend()\n",
    "plt.show()"
   ]
  },
  {
   "cell_type": "code",
   "execution_count": 86,
   "metadata": {},
   "outputs": [
    {
     "name": "stdout",
     "output_type": "stream",
     "text": [
      "10.744774276968442\n",
      "10.744774276968442\n",
      "11.06815577231282\n",
      "12.59745128848207\n",
      "13.898122755704094\n",
      "15.52989228012531\n",
      "114.89285858550284\n",
      "116.10557132692958\n",
      "116.60286228253148\n",
      "116.88433534138092\n",
      "117.08692249679801\n",
      "117.21179062810164\n",
      "117.33654054147422\n",
      "117.42127980706775\n",
      "117.48556814044215\n",
      "117.54531010925061\n",
      "117.58797625278478\n",
      "117.6253835357189\n",
      "117.66113967650594\n",
      "117.69795378892826\n",
      "117.74133088095357\n",
      "117.75215306096976\n",
      "117.7737320805366\n",
      "117.80540854436299\n",
      "117.82657310897683\n",
      "117.84271553048698\n",
      "117.85350721228235\n",
      "117.85420047103165\n",
      "117.87305783306127\n",
      "117.89897229148792\n",
      "117.90363414056526\n",
      "117.90519201407966\n",
      "117.9309538153959\n",
      "117.91147275739574\n",
      "117.94833928711499\n",
      "117.92913470604415\n",
      "117.96398064776082\n",
      "117.95009568048002\n",
      "117.97499507068865\n",
      "117.97728409357006\n",
      "117.97224073188087\n",
      "117.99550181929644\n",
      "117.98978526319297\n",
      "117.99050253504444\n",
      "118.01066498023931\n",
      "118.00847451820549\n",
      "117.99300575182716\n",
      "118.01982014574367\n",
      "118.02753918410656\n",
      "118.02070033477419\n",
      "118.01200951121304\n",
      "118.03428767634642\n",
      "118.04269731634747\n",
      "118.03979875833821\n",
      "118.02767621628249\n",
      "118.03647523515471\n",
      "118.05187412440364\n",
      "118.05785484644403\n",
      "118.05585080405999\n",
      "118.04751539433639\n",
      "118.04009769532951\n",
      "118.05801919074567\n",
      "118.06855306760482\n",
      "118.07277589685759\n",
      "118.07149853538817\n",
      "118.0660402640726\n",
      "118.05620703471826\n",
      "118.06088950907755\n",
      "118.07417643830628\n",
      "118.08260592448227\n",
      "118.08686944056953\n",
      "118.08727446272653\n",
      "118.08472464364496\n",
      "118.07946071559545\n",
      "118.07135318488118\n",
      "118.07131906318274\n",
      "118.08350664212198\n",
      "118.09219659159564\n",
      "118.09803756057045\n",
      "118.10120692924356\n",
      "118.10202308499353\n",
      "118.10067758661883\n",
      "118.09778779026507\n",
      "118.09324297941298\n",
      "118.08690953058242\n",
      "118.08048406416371\n",
      "118.0912534160802\n",
      "118.09980825605871\n",
      "118.10633214886133\n",
      "118.1110939663619\n",
      "118.11427587170485\n",
      "118.11590386527038\n",
      "118.11617850134579\n",
      "118.11512172587251\n",
      "118.11325326086072\n",
      "118.1104085123061\n",
      "118.1065981389019\n",
      "118.10173187176086\n",
      "118.09608966515447\n",
      "118.09925761859512\n"
     ]
    }
   ],
   "source": [
    "vector = []\n",
    "weight = np.linspace(0,1,100)\n",
    "\n",
    "for w in weight :\n",
    "    asyn = h.Exp2Syn(dendrite(0.5))\n",
    "    asyn.tau1 = 1.68799\n",
    "    asyn.tau2 = 20.8413\n",
    "    asyn.e = 0\n",
    "    asyn.i = 0\n",
    "    s.interval =50\n",
    "    s.number= 5\n",
    "    s.noise=0\n",
    "    s.start=0\n",
    "    stim = h.NetCon(s,asyn)\n",
    "    stim.delay=100\n",
    "    h.finitialize(-60 * mV)\n",
    "    stim.weight[0] = w\n",
    "    v_vec = h.Vector()             # Membrane potential vector\n",
    "    t_vec = h.Vector()             # Time stamp vector\n",
    "    vector1 = v_vec.record(soma(0.5)._ref_v)\n",
    "    t_vec.record(h._ref_t)\n",
    "    h.tstop = 500\n",
    "    h.run()\n",
    "    vector.append((max(vector1-min(vector1))))\n"
   ]
  },
  {
   "cell_type": "code",
   "execution_count": 87,
   "metadata": {},
   "outputs": [
    {
     "data": {
      "image/png": "[encoded data removed]",
      "text/plain": [
       "<Figure size 432x288 with 1 Axes>"
      ]
     },
     "metadata": {
      "needs_background": "light"
     },
     "output_type": "display_data"
    }
   ],
   "source": [
    "plt.ylabel('max Amplitude of Vm')\n",
    "plt.xlabel('Synapse weight')\n",
    "plt.plot(weight,vector)\n",
    "plt.savefig('amplitudeweight')\n",
    "plt.show()"
   ]
  },
  {
   "cell_type": "markdown",
   "metadata": {},
   "source": [
    "# Need to have two parallele models : \n",
    "## = dendrite.insert('pas') \n",
    "## = dendrite.insert('hh') \n",
    "\n"
   ]
  },
  {
   "cell_type": "code",
   "execution_count": 22,
   "metadata": {},
   "outputs": [],
   "source": [
    "soma1 = h.Section(name='soma1')\n",
    "soma1.L = 20\n",
    "soma1.diam = 20\n",
    "soma1.insert('hh')\n",
    "dendrite1 = h.Section(name='dendrite1')\n",
    "dendrite1.L = 500\n",
    "dendrite1.diam = 0.5\n",
    "dendrite1.nseg = 10\n",
    "dendrite1.insert('hh') \n",
    "dendrite1_1 = h.Section(name='dendrite1_1')\n",
    "dendrite1_1.L = 100\n",
    "dendrite1_1.diam = 0.5\n",
    "dendrite1_1.nseg = 10\n",
    "dendrite1_1.insert('pas')\n",
    "dendrite1_2 = h.Section(name='dendrite1_2')\n",
    "dendrite1_2.L = 100\n",
    "dendrite1_2.diam = 0.5\n",
    "dendrite1_2.nseg = 10\n",
    "dendrite1_2.insert('pas');"
   ]
  },
  {
   "cell_type": "code",
   "execution_count": 23,
   "metadata": {},
   "outputs": [],
   "source": [
    "dendrite1.connect(soma1,1,0)\n",
    "dendrite1_1.connect(dendrite1,1,1)\n",
    "dendrite1_2.connect(dendrite1,1,1);"
   ]
  },
  {
   "cell_type": "code",
   "execution_count": 24,
   "metadata": {},
   "outputs": [
    {
     "name": "stdout",
     "output_type": "stream",
     "text": [
      "\n",
      "|-|       soma(0-1)\n",
      "   `---------|       dendrite(0-1)\n",
      "              `---------|       dendrite_1(1-0)\n",
      "              `---------|       dendrite_2(1-0)\n",
      "|-|       soma1(0-1)\n",
      "   `---------|       dendrite1(0-1)\n",
      "              `---------|       dendrite1_1(1-0)\n",
      "              `---------|       dendrite1_2(1-0)\n",
      "\n"
     ]
    },
    {
     "data": {
      "text/plain": [
       "1.0"
      ]
     },
     "execution_count": 24,
     "metadata": {},
     "output_type": "execute_result"
    }
   ],
   "source": [
    "h.topology()"
   ]
  },
  {
   "cell_type": "code",
   "execution_count": 25,
   "metadata": {},
   "outputs": [],
   "source": [
    "x0 = (image[:,0])*1000\n",
    "x1 = (image[:,1])-10"
   ]
  },
  {
   "cell_type": "code",
   "execution_count": 26,
   "metadata": {},
   "outputs": [
    {
     "name": "stdout",
     "output_type": "stream",
     "text": [
      "['__class__', '__delattr__', '__dir__', '__doc__', '__eq__', '__format__', '__ge__', '__getattribute__', '__gt__', '__hash__', '__init__', '__init_subclass__', '__le__', '__lt__', '__module__', '__ne__', '__new__', '__next__', '__reduce__', '__reduce_ex__', '__repr__', '__setattr__', '__sizeof__', '__str__', '__subclasshook__', 'el', 'gk', 'gkbar', 'gl', 'gna', 'gnabar', 'h', 'il', 'is_ion', 'm', 'n', 'name', 'segment']\n"
     ]
    },
    {
     "data": {
      "image/png": "[encoded data removed]",
      "text/plain": [
       "<Figure size 576x288 with 1 Axes>"
      ]
     },
     "metadata": {
      "needs_background": "light"
     },
     "output_type": "display_data"
    },
    {
     "name": "stdout",
     "output_type": "stream",
     "text": [
      "[-75.4296875  -75.35339355 -75.36865234 ... -75.50598145 -75.54412842\n",
      " -75.62805176]\n",
      "118.09925761859512\n"
     ]
    }
   ],
   "source": [
    "h.load_file('stdrun.hoc')\n",
    "print(dir(soma1(0.5).hh))\n",
    "s1 = h.NetStim()\n",
    "soma1(0.5).hh.el=-80 #pour la dendrite = voir en divisant par 10\n",
    "dendrite1(0.5).hh.el=-8\n",
    "asyn1 = h.Exp2Syn(dendrite1(0.5))\n",
    "\n",
    "asyn1.tau1 = 6\n",
    "asyn1.tau2 = 10\n",
    "asyn1.e = 0\n",
    "asyn1.i = 0\n",
    "s1.interval =50\n",
    "s1.number= 5\n",
    "s1.noise=0\n",
    "s1.start=0\n",
    "\n",
    "\n",
    "stim1 = h.NetCon(s1,asyn1)\n",
    "stim1.delay=100\n",
    "\n",
    "stim1.weight[0] = 0.0007 # 0.0035\n",
    "\n",
    "#x = x*1000\n",
    "\n",
    "h.finitialize(-75 * mV)\n",
    "\n",
    "v_vec1 = h.Vector()             # Membrane potential vector\n",
    "t_vec1 = h.Vector()        \n",
    "k_vec1 = h.Vector() \n",
    "na_vec1 = h.Vector()\n",
    "v_vec1.record(soma1(0.5)._ref_v)\n",
    "#k_vec.record(soma(0.5)._ref_h_hh)\n",
    "#na_vec.record(soma(0.5._ref_n_hh))\n",
    "\n",
    "t_vec1.record(h._ref_t)\n",
    "\n",
    "h.tstop = 500\n",
    "h.run()\n",
    "plt.figure(figsize=(8,4)) # Default figsize is (8,6)\n",
    "plt.plot(t_vec1, v_vec1)\n",
    "\n",
    "plt.xlabel('Time (ms)')\n",
    "plt.xlim(0,500)\n",
    "plt.ylabel('Membrane Potential mV')\n",
    "plt.plot(x0,x1,color='g')\n",
    "plt.savefig('fit_praxis')\n",
    "plt.show()\n",
    "print(y)\n",
    "print(x)\n"
   ]
  },
  {
   "cell_type": "code",
   "execution_count": 27,
   "metadata": {},
   "outputs": [
    {
     "name": "stdout",
     "output_type": "stream",
     "text": [
      "\n",
      "|-|       soma(0-1)\n",
      "   `---------|       dendrite(0-1)\n",
      "              `---------|       dendrite_1(1-0)\n",
      "              `---------|       dendrite_2(1-0)\n",
      "|-|       soma1(0-1)\n",
      "   `---------|       dendrite1(0-1)\n",
      "              `---------|       dendrite1_1(1-0)\n",
      "              `---------|       dendrite1_2(1-0)\n",
      "\n"
     ]
    },
    {
     "data": {
      "text/plain": [
       "1.0"
      ]
     },
     "execution_count": 27,
     "metadata": {},
     "output_type": "execute_result"
    }
   ],
   "source": [
    "h.topology()\n"
   ]
  },
  {
   "cell_type": "code",
   "execution_count": 28,
   "metadata": {},
   "outputs": [
    {
     "name": "stdout",
     "output_type": "stream",
     "text": [
      "done\n"
     ]
    },
    {
     "name": "stderr",
     "output_type": "stream",
     "text": [
      "/opt/anaconda3/lib/python3.7/site-packages/ipykernel_launcher.py:14: RuntimeWarning: overflow encountered in square\n",
      "  \n"
     ]
    },
    {
     "name": "stdout",
     "output_type": "stream",
     "text": [
      "e=37402.2 x=4.06394 y=11 z=0.0007 \n",
      "\n"
     ]
    }
   ],
   "source": [
    "vaa1=h.Vector([5,10,0.0007])\n",
    "\n",
    "def efun1(vaa1):\n",
    "    asyn1.tau1 = vaa1[0]\n",
    "    asyn1.tau2 = vaa1[1]\n",
    "    stim1.weight[0] = vaa1[2]\n",
    "    v_vec1 = h.Vector()             \n",
    "    t_vec1 = h.Vector()             \n",
    "    v_vec1.record(soma1(0.5)._ref_v)\n",
    "    t_vec1.record(h._ref_t)\n",
    "    #vaa=h.Vector([asyn.tau1,asyn.tau2,stim.weight[0]])\n",
    "    h.tstop = 500\n",
    "    h.run()\n",
    "    eps = np.sum((v_vec1-y)**2)\n",
    "    return eps #vaa[0]+vaa[1]+vaa[2]-5 ) ** 2 +5*( vaa[0]-vaa[1]-vaa[2]-15) ** 2 \n",
    "h.attr_praxis(1e-5, 0.5, 0)\n",
    "print('done')\n",
    "e = h.fit_praxis(efun1, vaa1)\n",
    "print(\"e=%g x=%g y=%g z=%g \\n\"%(e,vaa1[0],vaa1[1],vaa1[2]))\n",
    "    \n"
   ]
  },
  {
   "cell_type": "code",
   "execution_count": 70,
   "metadata": {},
   "outputs": [
    {
     "name": "stdout",
     "output_type": "stream",
     "text": [
      "['__class__', '__delattr__', '__dir__', '__doc__', '__eq__', '__format__', '__ge__', '__getattribute__', '__gt__', '__hash__', '__init__', '__init_subclass__', '__le__', '__lt__', '__module__', '__ne__', '__new__', '__next__', '__reduce__', '__reduce_ex__', '__repr__', '__setattr__', '__sizeof__', '__str__', '__subclasshook__', 'el', 'gk', 'gkbar', 'gl', 'gna', 'gnabar', 'h', 'il', 'is_ion', 'm', 'n', 'name', 'segment']\n"
     ]
    },
    {
     "data": {
      "image/png": "[encoded data removed]",
      "text/plain": [
       "<Figure size 576x288 with 1 Axes>"
      ]
     },
     "metadata": {
      "needs_background": "light"
     },
     "output_type": "display_data"
    },
    {
     "name": "stdout",
     "output_type": "stream",
     "text": [
      "[-75.4296875  -75.35339355 -75.36865234 ... -75.50598145 -75.54412842\n",
      " -75.62805176]\n",
      "123.4382650418654\n"
     ]
    }
   ],
   "source": [
    "h.load_file('stdrun.hoc')\n",
    "print(dir(soma1(0.5).hh))\n",
    "s1 = h.NetStim()\n",
    "soma1(0.5).hh.el=-82.5 #pour la dendrite = voir en divisant par 10\n",
    "asyn1 = h.Exp2Syn(dendrite1(0.5))\n",
    "\n",
    "asyn1.tau1 = 4.06394\n",
    "asyn1.tau2 = 11\n",
    "asyn1.e = 0\n",
    "asyn1.i = 0\n",
    "s1.interval =50\n",
    "s1.number= 5\n",
    "s1.noise=0\n",
    "s1.start=0\n",
    "\n",
    "\n",
    "stim1 = h.NetCon(s1,asyn1)\n",
    "stim1.delay=100\n",
    "\n",
    "stim1.weight[0] = 0.0007\n",
    "\n",
    "#x = x*1000\n",
    "\n",
    "h.finitialize(-70 * mV)\n",
    "\n",
    "v_vec1 = h.Vector()             # Membrane potential vector\n",
    "t_vec1 = h.Vector()        \n",
    "k_vec1 = h.Vector() \n",
    "na_vec1 = h.Vector()\n",
    "v_vec1.record(soma1(0.5)._ref_v)\n",
    "#k_vec.record(soma(0.5)._ref_h_hh)\n",
    "#na_vec.record(soma(0.5._ref_n_hh))\n",
    "\n",
    "t_vec1.record(h._ref_t)\n",
    "\n",
    "h.tstop = 500\n",
    "h.run()\n",
    "plt.figure(figsize=(8,4)) # Default figsize is (8,6)\n",
    "plt.plot(t_vec1, v_vec1)\n",
    "\n",
    "plt.xlabel('Time (ms)')\n",
    "plt.xlim(0,500)\n",
    "plt.ylabel('Membrane Potential mV')\n",
    "plt.plot(x0,x1,color='g')\n",
    "plt.savefig('fit_praxis')\n",
    "plt.show()\n",
    "print(y)\n",
    "print(x)\n"
   ]
  },
  {
   "cell_type": "code",
   "execution_count": 105,
   "metadata": {},
   "outputs": [
    {
     "name": "stdout",
     "output_type": "stream",
     "text": [
      "8198\n"
     ]
    }
   ],
   "source": [
    "print(x1.argmax(axis=0))\n",
    "weight = np.linspace(0,1,1000)\n"
   ]
  },
  {
   "cell_type": "code",
   "execution_count": 97,
   "metadata": {},
   "outputs": [],
   "source": [
    "vector2= []\n",
    "\n",
    "for w in weight :\n",
    "    asyn1 = h.Exp2Syn(dendrite1(0.5))\n",
    "    asyn1.tau1 = 4.06394\n",
    "    asyn1.tau2 = 11\n",
    "    asyn1.e = 0\n",
    "    asyn1.i = 0\n",
    "    s1.interval =50\n",
    "    s1.number= 5\n",
    "    s1.noise=0\n",
    "    s1.start=0\n",
    "    stim1 = h.NetCon(s1,asyn1)\n",
    "    stim1.delay=100\n",
    "    h.finitialize(-60 * mV)\n",
    "    stim1.weight[0] = w\n",
    "    v_vec1 = h.Vector()             # Membrane potential vector\n",
    "    t_vec1 = h.Vector()             # Time stamp vector\n",
    "    vector1 = v_vec1.record(soma1(0.5)._ref_v)\n",
    "    t_vec1.record(h._ref_t)\n",
    "    h.tstop = 500\n",
    "    h.run()\n",
    "    vector2.append(vector1[8198])\n",
    "\n"
   ]
  },
  {
   "cell_type": "code",
   "execution_count": 98,
   "metadata": {},
   "outputs": [
    {
     "data": {
      "image/png": "[encoded data removed]",
      "text/plain": [
       "<Figure size 432x288 with 1 Axes>"
      ]
     },
     "metadata": {
      "needs_background": "light"
     },
     "output_type": "display_data"
    }
   ],
   "source": [
    "plt.ylabel('Vm')\n",
    "plt.xlabel('Synapse weight')\n",
    "plt.plot(weight,vector,'r',label='dendrite_pas')\n",
    "plt.plot(weight,vector2,'g',label='dendrite_hh')\n",
    "plt.savefig('weight2')\n",
    "plt.legend()\n",
    "plt.show()"
   ]
  },
  {
   "cell_type": "markdown",
   "metadata": {},
   "source": [
    "### Le Vm maximum à bouger dans le temps"
   ]
  },
  {
   "cell_type": "code",
   "execution_count": 106,
   "metadata": {},
   "outputs": [],
   "source": [
    "vectoram = []\n",
    "weight = np.linspace(0,0.2,100)\n",
    "\n",
    "for w in weight :\n",
    "    asyn = h.Exp2Syn(dendrite(0.5))\n",
    "    asyn.tau1 = 1.68799\n",
    "    asyn.tau2 = 20.8413\n",
    "    asyn.e = 0\n",
    "    asyn.i = 0\n",
    "    s.interval =50\n",
    "    s.number= 5\n",
    "    s.noise=0\n",
    "    s.start=0\n",
    "    stim = h.NetCon(s,asyn)\n",
    "    stim.delay=100\n",
    "    h.finitialize(-60 * mV)\n",
    "    stim.weight[0] = w\n",
    "    v_vec = h.Vector()             # Membrane potential vector\n",
    "    t_vec = h.Vector()             # Time stamp vector\n",
    "    vector1 = v_vec.record(soma(0.5)._ref_v)\n",
    "    t_vec.record(h._ref_t)\n",
    "    h.tstop = 500\n",
    "    h.run()\n",
    "    vectoram.append((max(vector1-min(vector1))))\n"
   ]
  },
  {
   "cell_type": "code",
   "execution_count": 107,
   "metadata": {},
   "outputs": [],
   "source": [
    "vectoram2 = []\n",
    "\n",
    "for w in weight :\n",
    "    asyn1 = h.Exp2Syn(dendrite1(0.5))\n",
    "    asyn1.tau1 = 4.06394\n",
    "    asyn1.tau2 = 11\n",
    "    asyn1.e = 0\n",
    "    asyn1.i = 0\n",
    "    s1.interval =50\n",
    "    s1.number= 5\n",
    "    s1.noise=0\n",
    "    s1.start=0\n",
    "    stim1 = h.NetCon(s1,asyn1)\n",
    "    stim1.delay=100\n",
    "    h.finitialize(-60 * mV)\n",
    "    stim1.weight[0] = w\n",
    "    v_vec1 = h.Vector()             # Membrane potential vector\n",
    "    t_vec1 = h.Vector()             # Time stamp vector\n",
    "    vector2= v_vec1.record(soma1(0.5)._ref_v)\n",
    "    t_vec1.record(h._ref_t)\n",
    "    h.tstop = 500\n",
    "    h.run()\n",
    "    vectoram2.append((max(vector2-min(vector2))))\n"
   ]
  },
  {
   "cell_type": "code",
   "execution_count": 109,
   "metadata": {},
   "outputs": [
    {
     "data": {
      "image/png": "[encoded data removed]",
      "text/plain": [
       "<Figure size 432x288 with 1 Axes>"
      ]
     },
     "metadata": {
      "needs_background": "light"
     },
     "output_type": "display_data"
    }
   ],
   "source": [
    "plt.ylabel('EPSP (Vm)')\n",
    "plt.xlabel('Synapse weight')\n",
    "plt.plot(weight,vectoram,'g',label='dendrite_pas')\n",
    "plt.plot(weight,vectoram2,'r',label='dendrite_hh')\n",
    "plt.savefig('amplitudeweight')\n",
    "plt.xlim(0,0.1)\n",
    "plt.legend()\n",
    "plt.show()"
   ]
  },
  {
   "cell_type": "code",
   "execution_count": 69,
   "metadata": {},
   "outputs": [
    {
     "name": "stdout",
     "output_type": "stream",
     "text": [
      "249.99999999990956\n"
     ]
    }
   ],
   "source": [
    "print(t_vec[10000])"
   ]
  },
  {
   "cell_type": "markdown",
   "metadata": {},
   "source": [
    "# On change la les paramètres de conductances pour les deux modèles"
   ]
  },
  {
   "cell_type": "code",
   "execution_count": 114,
   "metadata": {},
   "outputs": [
    {
     "name": "stdout",
     "output_type": "stream",
     "text": [
      "['__class__', '__delattr__', '__dir__', '__doc__', '__eq__', '__format__', '__ge__', '__getattribute__', '__gt__', '__hash__', '__init__', '__init_subclass__', '__le__', '__lt__', '__module__', '__ne__', '__new__', '__next__', '__reduce__', '__reduce_ex__', '__repr__', '__setattr__', '__sizeof__', '__str__', '__subclasshook__', 'el', 'gk', 'gkbar', 'gl', 'gna', 'gnabar', 'h', 'il', 'is_ion', 'm', 'n', 'name', 'segment']\n"
     ]
    }
   ],
   "source": [
    "print(dir(soma1(0.5).hh))"
   ]
  },
  {
   "cell_type": "code",
   "execution_count": 115,
   "metadata": {},
   "outputs": [],
   "source": [
    "soma(0.5).hh.gkbar=0 "
   ]
  },
  {
   "cell_type": "code",
   "execution_count": 118,
   "metadata": {},
   "outputs": [
    {
     "name": "stdout",
     "output_type": "stream",
     "text": [
      "(20001, 2)\n"
     ]
    },
    {
     "data": {
      "image/png": "[encoded data removed]",
      "text/plain": [
       "<Figure size 576x288 with 1 Axes>"
      ]
     },
     "metadata": {
      "needs_background": "light"
     },
     "output_type": "display_data"
    },
    {
     "name": "stdout",
     "output_type": "stream",
     "text": [
      "[-75.4296875  -75.35339355 -75.36865234 ... -75.50598145 -75.54412842\n",
      " -75.62805176]\n",
      "[0.00000e+00 2.50000e-02 5.00000e-02 ... 4.99950e+02 4.99975e+02\n",
      " 5.00000e+02]\n"
     ]
    }
   ],
   "source": [
    "print(image.shape)\n",
    "x = image[:,0]*1000\n",
    "y = image[:,1]\n",
    "y = y-10\n",
    "\n",
    "asyn = h.Exp2Syn(dendrite(0.5))\n",
    "\n",
    "asyn.tau1 = 1.68799\n",
    "asyn.tau2 = 20.8413 \n",
    "asyn.e = 0\n",
    "asyn.i = 0\n",
    "s.interval =50\n",
    "s.number= 5\n",
    "s.noise=0\n",
    "s.start=0\n",
    "\n",
    "\n",
    "stim = h.NetCon(s,asyn)\n",
    "stim.delay=100\n",
    "\n",
    "stim.weight[0] = 0.00434124  # 0.0035\n",
    "\n",
    "#x = x*1000\n",
    "\n",
    "h.finitialize(-70 * mV)\n",
    "\n",
    "v_vec = h.Vector()             # Membrane potential vector\n",
    "t_vec = h.Vector()        \n",
    "k_vec = h.Vector() \n",
    "na_vec = h.Vector()\n",
    "v_vec.record(soma(0.5)._ref_v)\n",
    "#k_vec.record(soma(0.5)._ref_h_hh)\n",
    "#na_vec.record(soma(0.5._ref_n_hh))\n",
    "\n",
    "t_vec.record(h._ref_t)\n",
    "\n",
    "h.tstop = 500\n",
    "h.run()\n",
    "plt.figure(figsize=(8,4)) # Default figsize is (8,6)\n",
    "plt.plot(t_vec, v_vec)\n",
    "\n",
    "plt.xlabel('Time (ms)')\n",
    "plt.xlim(0,500)\n",
    "plt.ylabel('Membrane Potential mV')\n",
    "plt.plot(x,y,color='g')\n",
    "plt.savefig('fit_praxis')\n",
    "plt.show()\n",
    "print(y)\n",
    "print(x)\n"
   ]
  },
  {
   "cell_type": "code",
   "execution_count": null,
   "metadata": {},
   "outputs": [],
   "source": []
  }
 ],
 "metadata": {
  "kernelspec": {
   "display_name": "Python 3",
   "language": "python",
   "name": "python3"
  },
  "language_info": {
   "codemirror_mode": {
    "name": "ipython",
    "version": 3
   },
   "file_extension": ".py",
   "mimetype": "text/x-python",
   "name": "python",
   "nbconvert_exporter": "python",
   "pygments_lexer": "ipython3",
   "version": "3.7.4"
  },
  "pycharm": {
   "stem_cell": {
    "cell_type": "raw",
    "metadata": {
     "collapsed": false
    },
    "source": []
   }
  }
 },
 "nbformat": 4,
 "nbformat_minor": 4
}
